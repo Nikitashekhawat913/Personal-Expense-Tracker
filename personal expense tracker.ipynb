{
 "cells": [
  {
   "cell_type": "code",
   "execution_count": null,
   "id": "c8707a19-265f-4bee-98ee-9a21be611d4b",
   "metadata": {},
   "outputs": [],
   "source": [
    "import sqlite3   # To connect to SQLite database\n",
    "import pandas as pd  # To display data nicely in tables\n"
   ]
  },
  {
   "cell_type": "code",
   "execution_count": null,
   "id": "a6dcb458-246a-4cf1-99fc-d19a80883243",
   "metadata": {},
   "outputs": [
    {
     "name": "stdout",
     "output_type": "stream",
     "text": [
      "✅ Database connected successfully.\n"
     ]
    }
   ],
   "source": [
    "# Connect to SQLite database (creates the file if it doesn't exist)\n",
    "conn = sqlite3.connect(\"expenses.db\")\n",
    "\n",
    "# Create a cursor to execute SQL commands\n",
    "cursor = conn.cursor()\n",
    "\n",
    "print(\"✅ Database connected successfully.\")\n"
   ]
  },
  {
   "cell_type": "code",
   "execution_count": null,
   "id": "c5f21625-2e3e-4625-94fa-affa2756df66",
   "metadata": {},
   "outputs": [
    {
     "name": "stdout",
     "output_type": "stream",
     "text": [
      "✅ Table 'expenses' is ready.\n"
     ]
    }
   ],
   "source": [
    "# SQL command to create the expenses table\n",
    "create_table_query = \"\"\"\n",
    "CREATE TABLE IF NOT EXISTS expenses (\n",
    "    id INTEGER PRIMARY KEY AUTOINCREMENT,\n",
    "    date TEXT,\n",
    "    amount REAL,\n",
    "    category TEXT,\n",
    "    note TEXT\n",
    ")\n",
    "\"\"\"\n",
    "\n",
    "cursor.execute(create_table_query)\n",
    "conn.commit()\n",
    "\n",
    "print(\"✅ Table 'expenses' is ready.\")\n"
   ]
  },
  {
   "cell_type": "code",
   "execution_count": null,
   "id": "74d10197-1ecb-4d64-ad56-1efd5e77c713",
   "metadata": {},
   "outputs": [
    {
     "name": "stdout",
     "output_type": "stream",
     "text": [
      "✅ Expense added successfully.\n"
     ]
    }
   ],
   "source": [
    "# Sample data to insert\n",
    "date = \"2025-07-10\"\n",
    "amount = 250.00\n",
    "category = \"Food\"\n",
    "note = \"Lunch with friends\"\n",
    "\n",
    "# Insert the expense\n",
    "insert_query = \"\"\"\n",
    "INSERT INTO expenses (date, amount, category, note)\n",
    "VALUES (?, ?, ?, ?)\n",
    "\"\"\"\n",
    "\n",
    "cursor.execute(insert_query, (date, amount, category, note))\n",
    "conn.commit()\n",
    "\n",
    "print(\"✅ Expense added successfully.\")\n"
   ]
  },
  {
   "cell_type": "code",
   "execution_count": null,
   "id": "96d31e6e-7778-47e1-92b2-ea99d385a47f",
   "metadata": {},
   "outputs": [
    {
     "data": {
      "text/html": [
       "<div>\n",
       "<style scoped>\n",
       "    .dataframe tbody tr th:only-of-type {\n",
       "        vertical-align: middle;\n",
       "    }\n",
       "\n",
       "    .dataframe tbody tr th {\n",
       "        vertical-align: top;\n",
       "    }\n",
       "\n",
       "    .dataframe thead th {\n",
       "        text-align: right;\n",
       "    }\n",
       "</style>\n",
       "<table border=\"1\" class=\"dataframe\">\n",
       "  <thead>\n",
       "    <tr style=\"text-align: right;\">\n",
       "      <th></th>\n",
       "      <th>ID</th>\n",
       "      <th>Date</th>\n",
       "      <th>Amount</th>\n",
       "      <th>Category</th>\n",
       "      <th>Note</th>\n",
       "    </tr>\n",
       "  </thead>\n",
       "  <tbody>\n",
       "    <tr>\n",
       "      <th>0</th>\n",
       "      <td>1</td>\n",
       "      <td>2025-07-10</td>\n",
       "      <td>250.0</td>\n",
       "      <td>Food</td>\n",
       "      <td>Lunch with friends</td>\n",
       "    </tr>\n",
       "  </tbody>\n",
       "</table>\n",
       "</div>"
      ],
      "text/plain": [
       "   ID        Date  Amount Category                Note\n",
       "0   1  2025-07-10   250.0     Food  Lunch with friends"
      ]
     },
     "execution_count": 7,
     "metadata": {},
     "output_type": "execute_result"
    }
   ],
   "source": [
    "# Query all data\n",
    "query = \"SELECT * FROM expenses\"\n",
    "cursor.execute(query)\n",
    "rows = cursor.fetchall()\n",
    "\n",
    "# Convert to DataFrame for pretty display\n",
    "df = pd.DataFrame(rows, columns=[\"ID\", \"Date\", \"Amount\", \"Category\", \"Note\"])\n",
    "df\n",
    "\n",
    "\n"
   ]
  },
  {
   "cell_type": "code",
   "execution_count": null,
   "id": "0b48acb7-881d-4057-9149-ced597359ba2",
   "metadata": {},
   "outputs": [
    {
     "name": "stdout",
     "output_type": "stream",
     "text": [
      "✅ Another expense added.\n"
     ]
    }
   ],
   "source": [
    "# Example: inserting another expense\n",
    "date = \"2025-07-11\"\n",
    "amount = 100.00\n",
    "category = \"Transport\"\n",
    "note = \"Bus ticket\"\n",
    "\n",
    "cursor.execute(insert_query, (date, amount, category, note))\n",
    "conn.commit()\n",
    "\n",
    "print(\"✅ Another expense added.\")\n"
   ]
  },
  {
   "cell_type": "code",
   "execution_count": null,
   "id": "d616c3af-865b-4cea-8229-94baa296f3a0",
   "metadata": {},
   "outputs": [
    {
     "data": {
      "text/html": [
       "<div>\n",
       "<style scoped>\n",
       "    .dataframe tbody tr th:only-of-type {\n",
       "        vertical-align: middle;\n",
       "    }\n",
       "\n",
       "    .dataframe tbody tr th {\n",
       "        vertical-align: top;\n",
       "    }\n",
       "\n",
       "    .dataframe thead th {\n",
       "        text-align: right;\n",
       "    }\n",
       "</style>\n",
       "<table border=\"1\" class=\"dataframe\">\n",
       "  <thead>\n",
       "    <tr style=\"text-align: right;\">\n",
       "      <th></th>\n",
       "      <th>ID</th>\n",
       "      <th>Date</th>\n",
       "      <th>Amount</th>\n",
       "      <th>Category</th>\n",
       "      <th>Note</th>\n",
       "    </tr>\n",
       "  </thead>\n",
       "  <tbody>\n",
       "    <tr>\n",
       "      <th>0</th>\n",
       "      <td>1</td>\n",
       "      <td>2025-07-10</td>\n",
       "      <td>250.0</td>\n",
       "      <td>Food</td>\n",
       "      <td>Lunch with friends</td>\n",
       "    </tr>\n",
       "  </tbody>\n",
       "</table>\n",
       "</div>"
      ],
      "text/plain": [
       "   ID        Date  Amount Category                Note\n",
       "0   1  2025-07-10   250.0     Food  Lunch with friends"
      ]
     },
     "execution_count": 9,
     "metadata": {},
     "output_type": "execute_result"
    }
   ],
   "source": [
    "category_filter = \"Food\"\n",
    "\n",
    "query = \"\"\"\n",
    "SELECT * FROM expenses\n",
    "WHERE category = ?\n",
    "\"\"\"\n",
    "\n",
    "cursor.execute(query, (category_filter,))\n",
    "rows = cursor.fetchall()\n",
    "\n",
    "df_filtered = pd.DataFrame(rows, columns=[\"ID\", \"Date\", \"Amount\", \"Category\", \"Note\"])\n",
    "df_filtered\n"
   ]
  },
  {
   "cell_type": "code",
   "execution_count": null,
   "id": "09ed6a14-cb1e-44c4-8197-0c1ed2e5b711",
   "metadata": {},
   "outputs": [
    {
     "data": {
      "text/html": [
       "<div>\n",
       "<style scoped>\n",
       "    .dataframe tbody tr th:only-of-type {\n",
       "        vertical-align: middle;\n",
       "    }\n",
       "\n",
       "    .dataframe tbody tr th {\n",
       "        vertical-align: top;\n",
       "    }\n",
       "\n",
       "    .dataframe thead th {\n",
       "        text-align: right;\n",
       "    }\n",
       "</style>\n",
       "<table border=\"1\" class=\"dataframe\">\n",
       "  <thead>\n",
       "    <tr style=\"text-align: right;\">\n",
       "      <th></th>\n",
       "      <th>Month</th>\n",
       "      <th>Total Amount</th>\n",
       "    </tr>\n",
       "  </thead>\n",
       "  <tbody>\n",
       "    <tr>\n",
       "      <th>0</th>\n",
       "      <td>2025-07</td>\n",
       "      <td>350.0</td>\n",
       "    </tr>\n",
       "  </tbody>\n",
       "</table>\n",
       "</div>"
      ],
      "text/plain": [
       "     Month  Total Amount\n",
       "0  2025-07         350.0"
      ]
     },
     "execution_count": 10,
     "metadata": {},
     "output_type": "execute_result"
    }
   ],
   "source": [
    "# Group expenses by month\n",
    "query = \"\"\"\n",
    "SELECT substr(date, 1, 7) as month, SUM(amount)\n",
    "FROM expenses\n",
    "GROUP BY month\n",
    "ORDER BY month\n",
    "\"\"\"\n",
    "\n",
    "cursor.execute(query)\n",
    "rows = cursor.fetchall()\n",
    "\n",
    "df_summary = pd.DataFrame(rows, columns=[\"Month\", \"Total Amount\"])\n",
    "df_summary\n"
   ]
  },
  {
   "cell_type": "code",
   "execution_count": null,
   "id": "88eb7006-b87a-4059-b245-460b1d069356",
   "metadata": {},
   "outputs": [
    {
     "name": "stdout",
     "output_type": "stream",
     "text": [
      "✅ Expense with ID 1 deleted (if it existed).\n"
     ]
    }
   ],
   "source": [
    "expense_id = 1  # Replace with the ID you want to delete\n",
    "\n",
    "delete_query = \"DELETE FROM expenses WHERE id = ?\"\n",
    "cursor.execute(delete_query, (expense_id,))\n",
    "conn.commit()\n",
    "\n",
    "print(f\"✅ Expense with ID {expense_id} deleted (if it existed).\")\n"
   ]
  },
  {
   "cell_type": "code",
   "execution_count": null,
   "id": "d345d443-79c9-4efd-806b-78ea518bc100",
   "metadata": {},
   "outputs": [
    {
     "name": "stdout",
     "output_type": "stream",
     "text": [
      "✅ Database connection closed.\n"
     ]
    }
   ],
   "source": [
    "# Always close connection when finished\n",
    "conn.close()\n",
    "print(\"✅ Database connection closed.\")\n"
   ]
  },
  {
   "cell_type": "code",
   "execution_count": null,
   "id": "502f89c5-a86b-48f4-a549-4d3788f27365",
   "metadata": {},
   "outputs": [
    {
     "name": "stdout",
     "output_type": "stream",
     "text": [
      "✅ Database connected successfully.\n"
     ]
    }
   ],
   "source": [
    "# Connect to SQLite database (creates the file if it doesn't exist)\n",
    "conn = sqlite3.connect(\"expenses.db\")\n",
    "\n",
    "# Create a cursor to execute SQL commands\n",
    "cursor = conn.cursor()\n",
    "\n",
    "print(\"✅ Database connected successfully.\")\n"
   ]
  },
  {
   "cell_type": "code",
   "execution_count": null,
   "id": "dfbb75c2-2bd5-4cdb-a43a-810416330b4b",
   "metadata": {},
   "outputs": [
    {
     "name": "stdout",
     "output_type": "stream",
     "text": [
      "✅ Expense added successfully.\n"
     ]
    }
   ],
   "source": [
    "# Example data\n",
    "date = \"2025-07-10\"\n",
    "amount = 250.00\n",
    "category = \"Food\"\n",
    "note = \"Lunch with friends\"\n",
    "\n",
    "# Insert into expenses table\n",
    "insert_query = \"\"\"\n",
    "INSERT INTO expenses (date, amount, category, note)\n",
    "VALUES (?, ?, ?, ?)\n",
    "\"\"\"\n",
    "\n",
    "cursor.execute(insert_query, (date, amount, category, note))\n",
    "conn.commit()\n",
    "\n",
    "print(\"✅ Expense added successfully.\")\n"
   ]
  },
  {
   "cell_type": "code",
   "execution_count": null,
   "id": "d41dbccf-c267-4a08-bd9b-d941906c5da7",
   "metadata": {},
   "outputs": [
    {
     "data": {
      "text/html": [
       "<div>\n",
       "<style scoped>\n",
       "    .dataframe tbody tr th:only-of-type {\n",
       "        vertical-align: middle;\n",
       "    }\n",
       "\n",
       "    .dataframe tbody tr th {\n",
       "        vertical-align: top;\n",
       "    }\n",
       "\n",
       "    .dataframe thead th {\n",
       "        text-align: right;\n",
       "    }\n",
       "</style>\n",
       "<table border=\"1\" class=\"dataframe\">\n",
       "  <thead>\n",
       "    <tr style=\"text-align: right;\">\n",
       "      <th></th>\n",
       "      <th>ID</th>\n",
       "      <th>Date</th>\n",
       "      <th>Amount</th>\n",
       "      <th>Category</th>\n",
       "      <th>Note</th>\n",
       "    </tr>\n",
       "  </thead>\n",
       "  <tbody>\n",
       "    <tr>\n",
       "      <th>0</th>\n",
       "      <td>2</td>\n",
       "      <td>2025-07-11</td>\n",
       "      <td>100.0</td>\n",
       "      <td>Transport</td>\n",
       "      <td>Bus ticket</td>\n",
       "    </tr>\n",
       "    <tr>\n",
       "      <th>1</th>\n",
       "      <td>3</td>\n",
       "      <td>2025-07-10</td>\n",
       "      <td>250.0</td>\n",
       "      <td>Food</td>\n",
       "      <td>Lunch with friends</td>\n",
       "    </tr>\n",
       "  </tbody>\n",
       "</table>\n",
       "</div>"
      ],
      "text/plain": [
       "   ID        Date  Amount   Category                Note\n",
       "0   2  2025-07-11   100.0  Transport          Bus ticket\n",
       "1   3  2025-07-10   250.0       Food  Lunch with friends"
      ]
     },
     "execution_count": 16,
     "metadata": {},
     "output_type": "execute_result"
    }
   ],
   "source": [
    "# Fetch all expenses from the table\n",
    "query = \"SELECT * FROM expenses\"\n",
    "cursor.execute(query)\n",
    "rows = cursor.fetchall()\n",
    "\n",
    "# Display as DataFrame\n",
    "df = pd.DataFrame(rows, columns=[\"ID\", \"Date\", \"Amount\", \"Category\", \"Note\"])\n",
    "df\n"
   ]
  },
  {
   "cell_type": "code",
   "execution_count": null,
   "id": "64c4810f-2658-45cb-8128-fc7d273a5228",
   "metadata": {},
   "outputs": [
    {
     "name": "stdout",
     "output_type": "stream",
     "text": [
      "✅ Another expense added.\n"
     ]
    }
   ],
   "source": [
    "# Example: inserting another expense\n",
    "date = \"2025-07-11\"\n",
    "amount = 100.00\n",
    "category = \"Transport\"\n",
    "note = \"Bus ticket\"\n",
    "\n",
    "cursor.execute(insert_query, (date, amount, category, note))\n",
    "conn.commit()\n",
    "\n",
    "print(\"✅ Another expense added.\")\n"
   ]
  },
  {
   "cell_type": "code",
   "execution_count": null,
   "id": "f72462c6-9ca0-4ec5-af44-b641748d90f7",
   "metadata": {},
   "outputs": [
    {
     "name": "stdout",
     "output_type": "stream",
     "text": [
      "✅ Multiple expenses added successfully!\n"
     ]
    }
   ],
   "source": [
    "# List of multiple expenses to insert\n",
    "expenses_data = [\n",
    "    (\"2025-07-11\", 100.00, \"Transport\", \"Bus ticket\"),\n",
    "    (\"2025-07-12\", 80.00, \"Entertainment\", \"Movie ticket\"),\n",
    "    (\"2025-07-12\", 150.00, \"Food\", \"Dinner at restaurant\"),\n",
    "    (\"2025-07-13\", 50.00, \"Groceries\", \"Vegetables and fruits\"),\n",
    "    (\"2025-07-14\", 300.00, \"Shopping\", \"New shoes\"),\n",
    "    (\"2025-07-15\", 200.00, \"Bills\", \"Electricity bill\"),\n",
    "    (\"2025-08-01\", 120.00, \"Food\", \"Breakfast at café\"),\n",
    "    (\"2025-08-02\", 75.00, \"Transport\", \"Taxi fare\"),\n",
    "    (\"2025-08-03\", 250.00, \"Shopping\", \"Clothes\"),\n",
    "]\n",
    "\n",
    "# Insert all records into the database\n",
    "insert_query = \"\"\"\n",
    "INSERT INTO expenses (date, amount, category, note)\n",
    "VALUES (?, ?, ?, ?)\n",
    "\"\"\"\n",
    "\n",
    "cursor.executemany(insert_query, expenses_data)\n",
    "conn.commit()\n",
    "\n",
    "print(\"✅ Multiple expenses added successfully!\")\n"
   ]
  },
  {
   "cell_type": "code",
   "execution_count": null,
   "id": "cb01a369-242f-451c-a470-a4bfbf0fb9d0",
   "metadata": {},
   "outputs": [
    {
     "data": {
      "text/html": [
       "<div>\n",
       "<style scoped>\n",
       "    .dataframe tbody tr th:only-of-type {\n",
       "        vertical-align: middle;\n",
       "    }\n",
       "\n",
       "    .dataframe tbody tr th {\n",
       "        vertical-align: top;\n",
       "    }\n",
       "\n",
       "    .dataframe thead th {\n",
       "        text-align: right;\n",
       "    }\n",
       "</style>\n",
       "<table border=\"1\" class=\"dataframe\">\n",
       "  <thead>\n",
       "    <tr style=\"text-align: right;\">\n",
       "      <th></th>\n",
       "      <th>ID</th>\n",
       "      <th>Date</th>\n",
       "      <th>Amount</th>\n",
       "      <th>Category</th>\n",
       "      <th>Note</th>\n",
       "    </tr>\n",
       "  </thead>\n",
       "  <tbody>\n",
       "    <tr>\n",
       "      <th>0</th>\n",
       "      <td>2</td>\n",
       "      <td>2025-07-11</td>\n",
       "      <td>100.0</td>\n",
       "      <td>Transport</td>\n",
       "      <td>Bus ticket</td>\n",
       "    </tr>\n",
       "    <tr>\n",
       "      <th>1</th>\n",
       "      <td>3</td>\n",
       "      <td>2025-07-10</td>\n",
       "      <td>250.0</td>\n",
       "      <td>Food</td>\n",
       "      <td>Lunch with friends</td>\n",
       "    </tr>\n",
       "    <tr>\n",
       "      <th>2</th>\n",
       "      <td>4</td>\n",
       "      <td>2025-07-11</td>\n",
       "      <td>100.0</td>\n",
       "      <td>Transport</td>\n",
       "      <td>Bus ticket</td>\n",
       "    </tr>\n",
       "    <tr>\n",
       "      <th>3</th>\n",
       "      <td>5</td>\n",
       "      <td>2025-07-11</td>\n",
       "      <td>100.0</td>\n",
       "      <td>Transport</td>\n",
       "      <td>Bus ticket</td>\n",
       "    </tr>\n",
       "    <tr>\n",
       "      <th>4</th>\n",
       "      <td>6</td>\n",
       "      <td>2025-07-12</td>\n",
       "      <td>80.0</td>\n",
       "      <td>Entertainment</td>\n",
       "      <td>Movie ticket</td>\n",
       "    </tr>\n",
       "    <tr>\n",
       "      <th>5</th>\n",
       "      <td>7</td>\n",
       "      <td>2025-07-12</td>\n",
       "      <td>150.0</td>\n",
       "      <td>Food</td>\n",
       "      <td>Dinner at restaurant</td>\n",
       "    </tr>\n",
       "    <tr>\n",
       "      <th>6</th>\n",
       "      <td>8</td>\n",
       "      <td>2025-07-13</td>\n",
       "      <td>50.0</td>\n",
       "      <td>Groceries</td>\n",
       "      <td>Vegetables and fruits</td>\n",
       "    </tr>\n",
       "    <tr>\n",
       "      <th>7</th>\n",
       "      <td>9</td>\n",
       "      <td>2025-07-14</td>\n",
       "      <td>300.0</td>\n",
       "      <td>Shopping</td>\n",
       "      <td>New shoes</td>\n",
       "    </tr>\n",
       "    <tr>\n",
       "      <th>8</th>\n",
       "      <td>10</td>\n",
       "      <td>2025-07-15</td>\n",
       "      <td>200.0</td>\n",
       "      <td>Bills</td>\n",
       "      <td>Electricity bill</td>\n",
       "    </tr>\n",
       "    <tr>\n",
       "      <th>9</th>\n",
       "      <td>11</td>\n",
       "      <td>2025-08-01</td>\n",
       "      <td>120.0</td>\n",
       "      <td>Food</td>\n",
       "      <td>Breakfast at café</td>\n",
       "    </tr>\n",
       "    <tr>\n",
       "      <th>10</th>\n",
       "      <td>12</td>\n",
       "      <td>2025-08-02</td>\n",
       "      <td>75.0</td>\n",
       "      <td>Transport</td>\n",
       "      <td>Taxi fare</td>\n",
       "    </tr>\n",
       "    <tr>\n",
       "      <th>11</th>\n",
       "      <td>13</td>\n",
       "      <td>2025-08-03</td>\n",
       "      <td>250.0</td>\n",
       "      <td>Shopping</td>\n",
       "      <td>Clothes</td>\n",
       "    </tr>\n",
       "  </tbody>\n",
       "</table>\n",
       "</div>"
      ],
      "text/plain": [
       "    ID        Date  Amount       Category                   Note\n",
       "0    2  2025-07-11   100.0      Transport             Bus ticket\n",
       "1    3  2025-07-10   250.0           Food     Lunch with friends\n",
       "2    4  2025-07-11   100.0      Transport             Bus ticket\n",
       "3    5  2025-07-11   100.0      Transport             Bus ticket\n",
       "4    6  2025-07-12    80.0  Entertainment           Movie ticket\n",
       "5    7  2025-07-12   150.0           Food   Dinner at restaurant\n",
       "6    8  2025-07-13    50.0      Groceries  Vegetables and fruits\n",
       "7    9  2025-07-14   300.0       Shopping              New shoes\n",
       "8   10  2025-07-15   200.0          Bills       Electricity bill\n",
       "9   11  2025-08-01   120.0           Food      Breakfast at café\n",
       "10  12  2025-08-02    75.0      Transport              Taxi fare\n",
       "11  13  2025-08-03   250.0       Shopping                Clothes"
      ]
     },
     "execution_count": 19,
     "metadata": {},
     "output_type": "execute_result"
    }
   ],
   "source": [
    "# Fetch all expenses from the table\n",
    "query = \"SELECT * FROM expenses\"\n",
    "cursor.execute(query)\n",
    "rows = cursor.fetchall()\n",
    "\n",
    "# Display as DataFrame\n",
    "df = pd.DataFrame(rows, columns=[\"ID\", \"Date\", \"Amount\", \"Category\", \"Note\"])\n",
    "df\n"
   ]
  },
  {
   "cell_type": "code",
   "execution_count": null,
   "id": "5564b03b-96a0-4c3c-bf80-01bfe5e474c2",
   "metadata": {},
   "outputs": [
    {
     "data": {
      "text/html": [
       "<div>\n",
       "<style scoped>\n",
       "    .dataframe tbody tr th:only-of-type {\n",
       "        vertical-align: middle;\n",
       "    }\n",
       "\n",
       "    .dataframe tbody tr th {\n",
       "        vertical-align: top;\n",
       "    }\n",
       "\n",
       "    .dataframe thead th {\n",
       "        text-align: right;\n",
       "    }\n",
       "</style>\n",
       "<table border=\"1\" class=\"dataframe\">\n",
       "  <thead>\n",
       "    <tr style=\"text-align: right;\">\n",
       "      <th></th>\n",
       "      <th>ID</th>\n",
       "      <th>Date</th>\n",
       "      <th>Amount</th>\n",
       "      <th>Category</th>\n",
       "      <th>Note</th>\n",
       "    </tr>\n",
       "  </thead>\n",
       "  <tbody>\n",
       "    <tr>\n",
       "      <th>0</th>\n",
       "      <td>3</td>\n",
       "      <td>2025-07-10</td>\n",
       "      <td>250.0</td>\n",
       "      <td>Food</td>\n",
       "      <td>Lunch with friends</td>\n",
       "    </tr>\n",
       "    <tr>\n",
       "      <th>1</th>\n",
       "      <td>7</td>\n",
       "      <td>2025-07-12</td>\n",
       "      <td>150.0</td>\n",
       "      <td>Food</td>\n",
       "      <td>Dinner at restaurant</td>\n",
       "    </tr>\n",
       "    <tr>\n",
       "      <th>2</th>\n",
       "      <td>11</td>\n",
       "      <td>2025-08-01</td>\n",
       "      <td>120.0</td>\n",
       "      <td>Food</td>\n",
       "      <td>Breakfast at café</td>\n",
       "    </tr>\n",
       "  </tbody>\n",
       "</table>\n",
       "</div>"
      ],
      "text/plain": [
       "   ID        Date  Amount Category                  Note\n",
       "0   3  2025-07-10   250.0     Food    Lunch with friends\n",
       "1   7  2025-07-12   150.0     Food  Dinner at restaurant\n",
       "2  11  2025-08-01   120.0     Food     Breakfast at café"
      ]
     },
     "execution_count": 20,
     "metadata": {},
     "output_type": "execute_result"
    }
   ],
   "source": [
    "# Define the category you want to filter\n",
    "category_filter = \"Food\"\n",
    "\n",
    "# SQL query to select expenses by category\n",
    "query = \"\"\"\n",
    "SELECT * FROM expenses\n",
    "WHERE category = ?\n",
    "\"\"\"\n",
    "\n",
    "cursor.execute(query, (category_filter,))\n",
    "rows = cursor.fetchall()\n",
    "\n",
    "# Display as DataFrame\n",
    "df_filtered = pd.DataFrame(rows, columns=[\"ID\", \"Date\", \"Amount\", \"Category\", \"Note\"])\n",
    "df_filtered\n"
   ]
  },
  {
   "cell_type": "code",
   "execution_count": null,
   "id": "22d886ca-48c0-4040-921b-e0bfc592e1d3",
   "metadata": {},
   "outputs": [
    {
     "data": {
      "text/html": [
       "<div>\n",
       "<style scoped>\n",
       "    .dataframe tbody tr th:only-of-type {\n",
       "        vertical-align: middle;\n",
       "    }\n",
       "\n",
       "    .dataframe tbody tr th {\n",
       "        vertical-align: top;\n",
       "    }\n",
       "\n",
       "    .dataframe thead th {\n",
       "        text-align: right;\n",
       "    }\n",
       "</style>\n",
       "<table border=\"1\" class=\"dataframe\">\n",
       "  <thead>\n",
       "    <tr style=\"text-align: right;\">\n",
       "      <th></th>\n",
       "      <th>ID</th>\n",
       "      <th>Date</th>\n",
       "      <th>Amount</th>\n",
       "      <th>Category</th>\n",
       "      <th>Note</th>\n",
       "    </tr>\n",
       "  </thead>\n",
       "  <tbody>\n",
       "    <tr>\n",
       "      <th>0</th>\n",
       "      <td>2</td>\n",
       "      <td>2025-07-11</td>\n",
       "      <td>100.0</td>\n",
       "      <td>Transport</td>\n",
       "      <td>Bus ticket</td>\n",
       "    </tr>\n",
       "    <tr>\n",
       "      <th>1</th>\n",
       "      <td>4</td>\n",
       "      <td>2025-07-11</td>\n",
       "      <td>100.0</td>\n",
       "      <td>Transport</td>\n",
       "      <td>Bus ticket</td>\n",
       "    </tr>\n",
       "    <tr>\n",
       "      <th>2</th>\n",
       "      <td>5</td>\n",
       "      <td>2025-07-11</td>\n",
       "      <td>100.0</td>\n",
       "      <td>Transport</td>\n",
       "      <td>Bus ticket</td>\n",
       "    </tr>\n",
       "    <tr>\n",
       "      <th>3</th>\n",
       "      <td>12</td>\n",
       "      <td>2025-08-02</td>\n",
       "      <td>75.0</td>\n",
       "      <td>Transport</td>\n",
       "      <td>Taxi fare</td>\n",
       "    </tr>\n",
       "  </tbody>\n",
       "</table>\n",
       "</div>"
      ],
      "text/plain": [
       "   ID        Date  Amount   Category        Note\n",
       "0   2  2025-07-11   100.0  Transport  Bus ticket\n",
       "1   4  2025-07-11   100.0  Transport  Bus ticket\n",
       "2   5  2025-07-11   100.0  Transport  Bus ticket\n",
       "3  12  2025-08-02    75.0  Transport   Taxi fare"
      ]
     },
     "execution_count": 24,
     "metadata": {},
     "output_type": "execute_result"
    }
   ],
   "source": [
    "\n",
    "# Define the category you want to filter\n",
    "category_filter = \"Transport\"\n",
    "\n",
    "# SQL query to select expenses by category\n",
    "query = \"\"\"\n",
    "SELECT * FROM expenses\n",
    "WHERE category = ?\n",
    "\"\"\"\n",
    "\n",
    "cursor.execute(query, (category_filter,))\n",
    "rows = cursor.fetchall()\n",
    "\n",
    "# Display as DataFrame\n",
    "df_filtered = pd.DataFrame(rows, columns=[\"ID\", \"Date\", \"Amount\", \"Category\", \"Note\"])\n",
    "df_filtered\n"
   ]
  },
  {
   "cell_type": "code",
   "execution_count": null,
   "id": "2d304fd2-5266-4228-9272-22d4a51dfe60",
   "metadata": {},
   "outputs": [
    {
     "data": {
      "text/html": [
       "<div>\n",
       "<style scoped>\n",
       "    .dataframe tbody tr th:only-of-type {\n",
       "        vertical-align: middle;\n",
       "    }\n",
       "\n",
       "    .dataframe tbody tr th {\n",
       "        vertical-align: top;\n",
       "    }\n",
       "\n",
       "    .dataframe thead th {\n",
       "        text-align: right;\n",
       "    }\n",
       "</style>\n",
       "<table border=\"1\" class=\"dataframe\">\n",
       "  <thead>\n",
       "    <tr style=\"text-align: right;\">\n",
       "      <th></th>\n",
       "      <th>Month</th>\n",
       "      <th>Total Amount</th>\n",
       "    </tr>\n",
       "  </thead>\n",
       "  <tbody>\n",
       "    <tr>\n",
       "      <th>0</th>\n",
       "      <td>2025-07</td>\n",
       "      <td>1330.0</td>\n",
       "    </tr>\n",
       "    <tr>\n",
       "      <th>1</th>\n",
       "      <td>2025-08</td>\n",
       "      <td>445.0</td>\n",
       "    </tr>\n",
       "  </tbody>\n",
       "</table>\n",
       "</div>"
      ],
      "text/plain": [
       "     Month  Total Amount\n",
       "0  2025-07        1330.0\n",
       "1  2025-08         445.0"
      ]
     },
     "execution_count": 25,
     "metadata": {},
     "output_type": "execute_result"
    }
   ],
   "source": [
    "# Group expenses by month (YYYY-MM) and sum amounts\n",
    "query = \"\"\"\n",
    "SELECT substr(date, 1, 7) AS month, SUM(amount)\n",
    "FROM expenses\n",
    "GROUP BY month\n",
    "ORDER BY month\n",
    "\"\"\"\n",
    "\n",
    "cursor.execute(query)\n",
    "rows = cursor.fetchall()\n",
    "\n",
    "# Display as DataFrame\n",
    "df_summary = pd.DataFrame(rows, columns=[\"Month\", \"Total Amount\"])\n",
    "df_summary\n"
   ]
  },
  {
   "cell_type": "code",
   "execution_count": null,
   "id": "41d7ad6d-fc69-4977-81d8-d8338e93ea43",
   "metadata": {},
   "outputs": [
    {
     "data": {
      "text/html": [
       "<div>\n",
       "<style scoped>\n",
       "    .dataframe tbody tr th:only-of-type {\n",
       "        vertical-align: middle;\n",
       "    }\n",
       "\n",
       "    .dataframe tbody tr th {\n",
       "        vertical-align: top;\n",
       "    }\n",
       "\n",
       "    .dataframe thead th {\n",
       "        text-align: right;\n",
       "    }\n",
       "</style>\n",
       "<table border=\"1\" class=\"dataframe\">\n",
       "  <thead>\n",
       "    <tr style=\"text-align: right;\">\n",
       "      <th></th>\n",
       "      <th>ID</th>\n",
       "      <th>Date</th>\n",
       "      <th>Amount</th>\n",
       "      <th>Category</th>\n",
       "      <th>Note</th>\n",
       "    </tr>\n",
       "  </thead>\n",
       "  <tbody>\n",
       "    <tr>\n",
       "      <th>0</th>\n",
       "      <td>2</td>\n",
       "      <td>2025-07-11</td>\n",
       "      <td>100.0</td>\n",
       "      <td>Transport</td>\n",
       "      <td>Bus ticket</td>\n",
       "    </tr>\n",
       "    <tr>\n",
       "      <th>1</th>\n",
       "      <td>3</td>\n",
       "      <td>2025-07-10</td>\n",
       "      <td>250.0</td>\n",
       "      <td>Food</td>\n",
       "      <td>Lunch with friends</td>\n",
       "    </tr>\n",
       "    <tr>\n",
       "      <th>2</th>\n",
       "      <td>4</td>\n",
       "      <td>2025-07-11</td>\n",
       "      <td>100.0</td>\n",
       "      <td>Transport</td>\n",
       "      <td>Bus ticket</td>\n",
       "    </tr>\n",
       "    <tr>\n",
       "      <th>3</th>\n",
       "      <td>5</td>\n",
       "      <td>2025-07-11</td>\n",
       "      <td>100.0</td>\n",
       "      <td>Transport</td>\n",
       "      <td>Bus ticket</td>\n",
       "    </tr>\n",
       "    <tr>\n",
       "      <th>4</th>\n",
       "      <td>6</td>\n",
       "      <td>2025-07-12</td>\n",
       "      <td>80.0</td>\n",
       "      <td>Entertainment</td>\n",
       "      <td>Movie ticket</td>\n",
       "    </tr>\n",
       "    <tr>\n",
       "      <th>5</th>\n",
       "      <td>7</td>\n",
       "      <td>2025-07-12</td>\n",
       "      <td>150.0</td>\n",
       "      <td>Food</td>\n",
       "      <td>Dinner at restaurant</td>\n",
       "    </tr>\n",
       "    <tr>\n",
       "      <th>6</th>\n",
       "      <td>8</td>\n",
       "      <td>2025-07-13</td>\n",
       "      <td>50.0</td>\n",
       "      <td>Groceries</td>\n",
       "      <td>Vegetables and fruits</td>\n",
       "    </tr>\n",
       "    <tr>\n",
       "      <th>7</th>\n",
       "      <td>9</td>\n",
       "      <td>2025-07-14</td>\n",
       "      <td>300.0</td>\n",
       "      <td>Shopping</td>\n",
       "      <td>New shoes</td>\n",
       "    </tr>\n",
       "    <tr>\n",
       "      <th>8</th>\n",
       "      <td>10</td>\n",
       "      <td>2025-07-15</td>\n",
       "      <td>200.0</td>\n",
       "      <td>Bills</td>\n",
       "      <td>Electricity bill</td>\n",
       "    </tr>\n",
       "    <tr>\n",
       "      <th>9</th>\n",
       "      <td>11</td>\n",
       "      <td>2025-08-01</td>\n",
       "      <td>120.0</td>\n",
       "      <td>Food</td>\n",
       "      <td>Breakfast at café</td>\n",
       "    </tr>\n",
       "    <tr>\n",
       "      <th>10</th>\n",
       "      <td>12</td>\n",
       "      <td>2025-08-02</td>\n",
       "      <td>75.0</td>\n",
       "      <td>Transport</td>\n",
       "      <td>Taxi fare</td>\n",
       "    </tr>\n",
       "    <tr>\n",
       "      <th>11</th>\n",
       "      <td>13</td>\n",
       "      <td>2025-08-03</td>\n",
       "      <td>250.0</td>\n",
       "      <td>Shopping</td>\n",
       "      <td>Clothes</td>\n",
       "    </tr>\n",
       "  </tbody>\n",
       "</table>\n",
       "</div>"
      ],
      "text/plain": [
       "    ID        Date  Amount       Category                   Note\n",
       "0    2  2025-07-11   100.0      Transport             Bus ticket\n",
       "1    3  2025-07-10   250.0           Food     Lunch with friends\n",
       "2    4  2025-07-11   100.0      Transport             Bus ticket\n",
       "3    5  2025-07-11   100.0      Transport             Bus ticket\n",
       "4    6  2025-07-12    80.0  Entertainment           Movie ticket\n",
       "5    7  2025-07-12   150.0           Food   Dinner at restaurant\n",
       "6    8  2025-07-13    50.0      Groceries  Vegetables and fruits\n",
       "7    9  2025-07-14   300.0       Shopping              New shoes\n",
       "8   10  2025-07-15   200.0          Bills       Electricity bill\n",
       "9   11  2025-08-01   120.0           Food      Breakfast at café\n",
       "10  12  2025-08-02    75.0      Transport              Taxi fare\n",
       "11  13  2025-08-03   250.0       Shopping                Clothes"
      ]
     },
     "execution_count": 26,
     "metadata": {},
     "output_type": "execute_result"
    }
   ],
   "source": [
    "# View all expenses with IDs\n",
    "query = \"SELECT * FROM expenses\"\n",
    "cursor.execute(query)\n",
    "rows = cursor.fetchall()\n",
    "\n",
    "df = pd.DataFrame(rows, columns=[\"ID\", \"Date\", \"Amount\", \"Category\", \"Note\"])\n",
    "df\n"
   ]
  },
  {
   "cell_type": "code",
   "execution_count": null,
   "id": "7aeacbb1-431f-4b34-a730-500969ad0184",
   "metadata": {},
   "outputs": [
    {
     "name": "stdout",
     "output_type": "stream",
     "text": [
      "✅ Expense with ID 2 deleted (if it existed).\n"
     ]
    }
   ],
   "source": [
    "# Change this to the ID you want to delete\n",
    "expense_id = 2\n",
    "\n",
    "# Delete query\n",
    "delete_query = \"DELETE FROM expenses WHERE id = ?\"\n",
    "\n",
    "cursor.execute(delete_query, (expense_id,))\n",
    "conn.commit()\n",
    "\n",
    "print(f\"✅ Expense with ID {expense_id} deleted (if it existed).\")\n"
   ]
  },
  {
   "cell_type": "code",
   "execution_count": null,
   "id": "d7b46da8-edcc-4825-8e2e-683fbda6c1f3",
   "metadata": {},
   "outputs": [
    {
     "data": {
      "text/html": [
       "<div>\n",
       "<style scoped>\n",
       "    .dataframe tbody tr th:only-of-type {\n",
       "        vertical-align: middle;\n",
       "    }\n",
       "\n",
       "    .dataframe tbody tr th {\n",
       "        vertical-align: top;\n",
       "    }\n",
       "\n",
       "    .dataframe thead th {\n",
       "        text-align: right;\n",
       "    }\n",
       "</style>\n",
       "<table border=\"1\" class=\"dataframe\">\n",
       "  <thead>\n",
       "    <tr style=\"text-align: right;\">\n",
       "      <th></th>\n",
       "      <th>ID</th>\n",
       "      <th>Date</th>\n",
       "      <th>Amount</th>\n",
       "      <th>Category</th>\n",
       "      <th>Note</th>\n",
       "    </tr>\n",
       "  </thead>\n",
       "  <tbody>\n",
       "    <tr>\n",
       "      <th>0</th>\n",
       "      <td>3</td>\n",
       "      <td>2025-07-10</td>\n",
       "      <td>250.0</td>\n",
       "      <td>Food</td>\n",
       "      <td>Lunch with friends</td>\n",
       "    </tr>\n",
       "    <tr>\n",
       "      <th>1</th>\n",
       "      <td>4</td>\n",
       "      <td>2025-07-11</td>\n",
       "      <td>100.0</td>\n",
       "      <td>Transport</td>\n",
       "      <td>Bus ticket</td>\n",
       "    </tr>\n",
       "    <tr>\n",
       "      <th>2</th>\n",
       "      <td>5</td>\n",
       "      <td>2025-07-11</td>\n",
       "      <td>100.0</td>\n",
       "      <td>Transport</td>\n",
       "      <td>Bus ticket</td>\n",
       "    </tr>\n",
       "    <tr>\n",
       "      <th>3</th>\n",
       "      <td>6</td>\n",
       "      <td>2025-07-12</td>\n",
       "      <td>80.0</td>\n",
       "      <td>Entertainment</td>\n",
       "      <td>Movie ticket</td>\n",
       "    </tr>\n",
       "    <tr>\n",
       "      <th>4</th>\n",
       "      <td>7</td>\n",
       "      <td>2025-07-12</td>\n",
       "      <td>150.0</td>\n",
       "      <td>Food</td>\n",
       "      <td>Dinner at restaurant</td>\n",
       "    </tr>\n",
       "    <tr>\n",
       "      <th>5</th>\n",
       "      <td>8</td>\n",
       "      <td>2025-07-13</td>\n",
       "      <td>50.0</td>\n",
       "      <td>Groceries</td>\n",
       "      <td>Vegetables and fruits</td>\n",
       "    </tr>\n",
       "    <tr>\n",
       "      <th>6</th>\n",
       "      <td>9</td>\n",
       "      <td>2025-07-14</td>\n",
       "      <td>300.0</td>\n",
       "      <td>Shopping</td>\n",
       "      <td>New shoes</td>\n",
       "    </tr>\n",
       "    <tr>\n",
       "      <th>7</th>\n",
       "      <td>10</td>\n",
       "      <td>2025-07-15</td>\n",
       "      <td>200.0</td>\n",
       "      <td>Bills</td>\n",
       "      <td>Electricity bill</td>\n",
       "    </tr>\n",
       "    <tr>\n",
       "      <th>8</th>\n",
       "      <td>11</td>\n",
       "      <td>2025-08-01</td>\n",
       "      <td>120.0</td>\n",
       "      <td>Food</td>\n",
       "      <td>Breakfast at café</td>\n",
       "    </tr>\n",
       "    <tr>\n",
       "      <th>9</th>\n",
       "      <td>12</td>\n",
       "      <td>2025-08-02</td>\n",
       "      <td>75.0</td>\n",
       "      <td>Transport</td>\n",
       "      <td>Taxi fare</td>\n",
       "    </tr>\n",
       "    <tr>\n",
       "      <th>10</th>\n",
       "      <td>13</td>\n",
       "      <td>2025-08-03</td>\n",
       "      <td>250.0</td>\n",
       "      <td>Shopping</td>\n",
       "      <td>Clothes</td>\n",
       "    </tr>\n",
       "  </tbody>\n",
       "</table>\n",
       "</div>"
      ],
      "text/plain": [
       "    ID        Date  Amount       Category                   Note\n",
       "0    3  2025-07-10   250.0           Food     Lunch with friends\n",
       "1    4  2025-07-11   100.0      Transport             Bus ticket\n",
       "2    5  2025-07-11   100.0      Transport             Bus ticket\n",
       "3    6  2025-07-12    80.0  Entertainment           Movie ticket\n",
       "4    7  2025-07-12   150.0           Food   Dinner at restaurant\n",
       "5    8  2025-07-13    50.0      Groceries  Vegetables and fruits\n",
       "6    9  2025-07-14   300.0       Shopping              New shoes\n",
       "7   10  2025-07-15   200.0          Bills       Electricity bill\n",
       "8   11  2025-08-01   120.0           Food      Breakfast at café\n",
       "9   12  2025-08-02    75.0      Transport              Taxi fare\n",
       "10  13  2025-08-03   250.0       Shopping                Clothes"
      ]
     },
     "execution_count": 28,
     "metadata": {},
     "output_type": "execute_result"
    }
   ],
   "source": [
    "# View all expenses again\n",
    "query = \"SELECT * FROM expenses\"\n",
    "cursor.execute(query)\n",
    "rows = cursor.fetchall()\n",
    "\n",
    "df = pd.DataFrame(rows, columns=[\"ID\", \"Date\", \"Amount\", \"Category\", \"Note\"])\n",
    "df\n"
   ]
  },
  {
   "cell_type": "code",
   "execution_count": null,
   "id": "66cbc93c-f24c-4bc6-a93c-96d16e47b9ed",
   "metadata": {},
   "outputs": [],
   "source": [
    "import matplotlib.pyplot as plt\n"
   ]
  },
  {
   "cell_type": "code",
   "execution_count": null,
   "id": "ab08f486-7d5f-4e68-a07f-08cda904d7be",
   "metadata": {},
   "outputs": [
    {
     "data": {
      "image/png": "[encoded data removed]",
      "text/plain": [
       "<Figure size 600x600 with 1 Axes>"
      ]
     },
     "metadata": {},
     "output_type": "display_data"
    }
   ],
   "source": [
    "# Query: total amount per category\n",
    "query = \"\"\"\n",
    "SELECT category, SUM(amount)\n",
    "FROM expenses\n",
    "GROUP BY category\n",
    "\"\"\"\n",
    "\n",
    "cursor.execute(query)\n",
    "data = cursor.fetchall()\n",
    "\n",
    "# Split into labels and values\n",
    "labels = [row[0] for row in data]\n",
    "values = [row[1] for row in data]\n",
    "\n",
    "# Plot pie chart\n",
    "plt.figure(figsize=(6, 6))\n",
    "plt.pie(values, labels=labels, autopct='%1.1f%%', startangle=90)\n",
    "plt.title(\"Spending by Category\")\n",
    "plt.axis('equal')\n",
    "plt.show()\n"
   ]
  },
  {
   "cell_type": "code",
   "execution_count": null,
   "id": "16257fa5-4f80-4151-a322-4483f2568bde",
   "metadata": {},
   "outputs": [
    {
     "data": {
      "image/png": "[encoded data removed]",
      "text/plain": [
       "<Figure size 800x500 with 1 Axes>"
      ]
     },
     "metadata": {},
     "output_type": "display_data"
    }
   ],
   "source": [
    "# Query: total amount per month\n",
    "query = \"\"\"\n",
    "SELECT substr(date, 1, 7) AS month, SUM(amount)\n",
    "FROM expenses\n",
    "GROUP BY month\n",
    "ORDER BY month\n",
    "\"\"\"\n",
    "\n",
    "cursor.execute(query)\n",
    "data = cursor.fetchall()\n",
    "\n",
    "# Prepare data\n",
    "months = [row[0] for row in data]\n",
    "totals = [row[1] for row in data]\n",
    "\n",
    "# Plot bar chart\n",
    "plt.figure(figsize=(8, 5))\n",
    "plt.bar(months, totals, color='skyblue')\n",
    "plt.title(\"Monthly Spending Summary\")\n",
    "plt.xlabel(\"Month\")\n",
    "plt.ylabel(\"Total Amount (₹)\")\n",
    "plt.grid(axis='y', linestyle='--', alpha=0.7)\n",
    "plt.show()\n"
   ]
  },
  {
   "cell_type": "code",
   "execution_count": null,
   "id": "a67c0e4d-7fe7-423d-bd84-cbd7c1718e80",
   "metadata": {},
   "outputs": [
    {
     "data": {
      "image/png": "[encoded data removed]",
      "text/plain": [
       "<Figure size 1000x500 with 1 Axes>"
      ]
     },
     "metadata": {},
     "output_type": "display_data"
    }
   ],
   "source": [
    "# Query daily totals\n",
    "query = \"\"\"\n",
    "SELECT date, SUM(amount)\n",
    "FROM expenses\n",
    "GROUP BY date\n",
    "ORDER BY date\n",
    "\"\"\"\n",
    "\n",
    "cursor.execute(query)\n",
    "data = cursor.fetchall()\n",
    "\n",
    "# Prepare data\n",
    "dates = [row[0] for row in data]\n",
    "totals = [row[1] for row in data]\n",
    "\n",
    "# Plot\n",
    "plt.figure(figsize=(10,5))\n",
    "plt.plot(dates, totals, marker='o', color='purple')\n",
    "plt.title(\"Daily Expense Trend\")\n",
    "plt.xlabel(\"Date\")\n",
    "plt.ylabel(\"Total Expense (₹)\")\n",
    "plt.xticks(rotation=45)\n",
    "plt.grid(True, linestyle='--', alpha=0.5)\n",
    "plt.show()\n"
   ]
  },
  {
   "cell_type": "code",
   "execution_count": null,
   "id": "516f2592-79eb-4e7e-b822-74f6823cafa8",
   "metadata": {},
   "outputs": [
    {
     "data": {
      "image/png": "[encoded data removed]",
      "text/plain": [
       "<Figure size 800x500 with 1 Axes>"
      ]
     },
     "metadata": {},
     "output_type": "display_data"
    }
   ],
   "source": [
    "# Query average amount per category\n",
    "query = \"\"\"\n",
    "SELECT category, AVG(amount)\n",
    "FROM expenses\n",
    "GROUP BY category\n",
    "\"\"\"\n",
    "\n",
    "cursor.execute(query)\n",
    "data = cursor.fetchall()\n",
    "\n",
    "# Prepare data\n",
    "categories = [row[0] for row in data]\n",
    "averages = [row[1] for row in data]\n",
    "\n",
    "# Plot\n",
    "plt.figure(figsize=(8,5))\n",
    "plt.bar(categories, averages, color='coral')\n",
    "plt.title(\"Average Expense per Category\")\n",
    "plt.xlabel(\"Category\")\n",
    "plt.ylabel(\"Average Amount (₹)\")\n",
    "plt.show()\n"
   ]
  },
  {
   "cell_type": "code",
   "execution_count": null,
   "id": "5edf0a02-5006-42d5-904b-b33e08b99b45",
   "metadata": {},
   "outputs": [
    {
     "data": {
      "image/png": "[encoded data removed]",
      "text/plain": [
       "<Figure size 800x500 with 1 Axes>"
      ]
     },
     "metadata": {},
     "output_type": "display_data"
    }
   ],
   "source": [
    "# Query: total expenses grouped by weekday name\n",
    "query = \"\"\"\n",
    "SELECT \n",
    "    strftime('%w', date) AS weekday_num,\n",
    "    CASE strftime('%w', date)\n",
    "        WHEN '0' THEN 'Sunday'\n",
    "        WHEN '1' THEN 'Monday'\n",
    "        WHEN '2' THEN 'Tuesday'\n",
    "        WHEN '3' THEN 'Wednesday'\n",
    "        WHEN '4' THEN 'Thursday'\n",
    "        WHEN '5' THEN 'Friday'\n",
    "        WHEN '6' THEN 'Saturday'\n",
    "    END AS weekday_name,\n",
    "    SUM(amount)\n",
    "FROM expenses\n",
    "GROUP BY weekday_num\n",
    "ORDER BY weekday_num\n",
    "\"\"\"\n",
    "\n",
    "cursor.execute(query)\n",
    "data = cursor.fetchall()\n",
    "\n",
    "# Prepare data\n",
    "weekdays = [row[1] for row in data]\n",
    "totals = [row[2] for row in data]\n",
    "\n",
    "# Plot\n",
    "plt.figure(figsize=(8,5))\n",
    "plt.bar(weekdays, totals, color='orange')\n",
    "plt.title(\"Spending by Day of Week\")\n",
    "plt.xlabel(\"Day of Week\")\n",
    "plt.ylabel(\"Total Spending (₹)\")\n",
    "plt.show()\n"
   ]
  },
  {
   "cell_type": "code",
   "execution_count": null,
   "id": "99efd2f5-8a1e-442f-893d-214052cae4cb",
   "metadata": {},
   "outputs": [
    {
     "data": {
      "text/html": [
       "<div>\n",
       "<style scoped>\n",
       "    .dataframe tbody tr th:only-of-type {\n",
       "        vertical-align: middle;\n",
       "    }\n",
       "\n",
       "    .dataframe tbody tr th {\n",
       "        vertical-align: top;\n",
       "    }\n",
       "\n",
       "    .dataframe thead th {\n",
       "        text-align: right;\n",
       "    }\n",
       "</style>\n",
       "<table border=\"1\" class=\"dataframe\">\n",
       "  <thead>\n",
       "    <tr style=\"text-align: right;\">\n",
       "      <th></th>\n",
       "      <th>ID</th>\n",
       "      <th>Date</th>\n",
       "      <th>Amount</th>\n",
       "      <th>Category</th>\n",
       "      <th>Note</th>\n",
       "    </tr>\n",
       "  </thead>\n",
       "  <tbody>\n",
       "    <tr>\n",
       "      <th>0</th>\n",
       "      <td>3</td>\n",
       "      <td>2025-07-10</td>\n",
       "      <td>250.0</td>\n",
       "      <td>Food</td>\n",
       "      <td>Lunch with friends</td>\n",
       "    </tr>\n",
       "    <tr>\n",
       "      <th>1</th>\n",
       "      <td>4</td>\n",
       "      <td>2025-07-11</td>\n",
       "      <td>100.0</td>\n",
       "      <td>Transport</td>\n",
       "      <td>Bus ticket</td>\n",
       "    </tr>\n",
       "    <tr>\n",
       "      <th>2</th>\n",
       "      <td>5</td>\n",
       "      <td>2025-07-11</td>\n",
       "      <td>100.0</td>\n",
       "      <td>Transport</td>\n",
       "      <td>Bus ticket</td>\n",
       "    </tr>\n",
       "    <tr>\n",
       "      <th>3</th>\n",
       "      <td>6</td>\n",
       "      <td>2025-07-12</td>\n",
       "      <td>80.0</td>\n",
       "      <td>Entertainment</td>\n",
       "      <td>Movie ticket</td>\n",
       "    </tr>\n",
       "    <tr>\n",
       "      <th>4</th>\n",
       "      <td>7</td>\n",
       "      <td>2025-07-12</td>\n",
       "      <td>150.0</td>\n",
       "      <td>Food</td>\n",
       "      <td>Dinner at restaurant</td>\n",
       "    </tr>\n",
       "    <tr>\n",
       "      <th>5</th>\n",
       "      <td>8</td>\n",
       "      <td>2025-07-13</td>\n",
       "      <td>50.0</td>\n",
       "      <td>Groceries</td>\n",
       "      <td>Vegetables and fruits</td>\n",
       "    </tr>\n",
       "    <tr>\n",
       "      <th>6</th>\n",
       "      <td>9</td>\n",
       "      <td>2025-07-14</td>\n",
       "      <td>300.0</td>\n",
       "      <td>Shopping</td>\n",
       "      <td>New shoes</td>\n",
       "    </tr>\n",
       "    <tr>\n",
       "      <th>7</th>\n",
       "      <td>10</td>\n",
       "      <td>2025-07-15</td>\n",
       "      <td>200.0</td>\n",
       "      <td>Bills</td>\n",
       "      <td>Electricity bill</td>\n",
       "    </tr>\n",
       "    <tr>\n",
       "      <th>8</th>\n",
       "      <td>11</td>\n",
       "      <td>2025-08-01</td>\n",
       "      <td>120.0</td>\n",
       "      <td>Food</td>\n",
       "      <td>Breakfast at café</td>\n",
       "    </tr>\n",
       "    <tr>\n",
       "      <th>9</th>\n",
       "      <td>12</td>\n",
       "      <td>2025-08-02</td>\n",
       "      <td>75.0</td>\n",
       "      <td>Transport</td>\n",
       "      <td>Taxi fare</td>\n",
       "    </tr>\n",
       "    <tr>\n",
       "      <th>10</th>\n",
       "      <td>13</td>\n",
       "      <td>2025-08-03</td>\n",
       "      <td>250.0</td>\n",
       "      <td>Shopping</td>\n",
       "      <td>Clothes</td>\n",
       "    </tr>\n",
       "  </tbody>\n",
       "</table>\n",
       "</div>"
      ],
      "text/plain": [
       "    ID        Date  Amount       Category                   Note\n",
       "0    3  2025-07-10   250.0           Food     Lunch with friends\n",
       "1    4  2025-07-11   100.0      Transport             Bus ticket\n",
       "2    5  2025-07-11   100.0      Transport             Bus ticket\n",
       "3    6  2025-07-12    80.0  Entertainment           Movie ticket\n",
       "4    7  2025-07-12   150.0           Food   Dinner at restaurant\n",
       "5    8  2025-07-13    50.0      Groceries  Vegetables and fruits\n",
       "6    9  2025-07-14   300.0       Shopping              New shoes\n",
       "7   10  2025-07-15   200.0          Bills       Electricity bill\n",
       "8   11  2025-08-01   120.0           Food      Breakfast at café\n",
       "9   12  2025-08-02    75.0      Transport              Taxi fare\n",
       "10  13  2025-08-03   250.0       Shopping                Clothes"
      ]
     },
     "execution_count": 35,
     "metadata": {},
     "output_type": "execute_result"
    }
   ],
   "source": [
    "# Fetch all data from expenses table\n",
    "query = \"SELECT * FROM expenses\"\n",
    "cursor.execute(query)\n",
    "rows = cursor.fetchall()\n",
    "\n",
    "# Create DataFrame\n",
    "df = pd.DataFrame(rows, columns=[\"ID\", \"Date\", \"Amount\", \"Category\", \"Note\"])\n",
    "\n",
    "# Display to check\n",
    "df\n"
   ]
  },
  {
   "cell_type": "code",
   "execution_count": null,
   "id": "f05b29b4-1923-49b6-bbad-6c077084e7d7",
   "metadata": {},
   "outputs": [
    {
     "name": "stdout",
     "output_type": "stream",
     "text": [
      "✅ Data exported to 'expenses_data.csv'.\n"
     ]
    }
   ],
   "source": [
    "# Save DataFrame to CSV file\n",
    "df.to_csv(\"expenses_data.csv\", index=False)\n",
    "\n",
    "print(\"✅ Data exported to 'expenses_data.csv'.\")\n"
   ]
  },
  {
   "cell_type": "code",
   "execution_count": null,
   "id": "ed78c036-e809-4fd3-acd6-cde55ad1c17f",
   "metadata": {},
   "outputs": [
    {
     "name": "stdout",
     "output_type": "stream",
     "text": [
      "✅ Data exported to 'expenses_data.xlsx'.\n"
     ]
    }
   ],
   "source": [
    "# Save DataFrame to Excel\n",
    "df.to_excel(\"expenses_data.xlsx\", index=False)\n",
    "\n",
    "print(\"✅ Data exported to 'expenses_data.xlsx'.\")\n"
   ]
  },
  {
   "cell_type": "code",
   "execution_count": null,
   "id": "3fea34f8-70f4-4c61-afd9-13f0380c018c",
   "metadata": {},
   "outputs": [
    {
     "name": "stdout",
     "output_type": "stream",
     "text": [
      "✅ Monthly summary exported to 'monthly_summary.xlsx'.\n"
     ]
    }
   ],
   "source": [
    "# Monthly summary query\n",
    "query = \"\"\"\n",
    "SELECT substr(date, 1, 7) AS Month, SUM(amount) AS Total\n",
    "FROM expenses\n",
    "GROUP BY Month\n",
    "ORDER BY Month\n",
    "\"\"\"\n",
    "\n",
    "cursor.execute(query)\n",
    "rows = cursor.fetchall()\n",
    "\n",
    "# Create DataFrame\n",
    "df_summary = pd.DataFrame(rows, columns=[\"Month\", \"Total\"])\n",
    "\n",
    "# Export to Excel\n",
    "df_summary.to_excel(\"monthly_summary.xlsx\", index=False)\n",
    "\n",
    "print(\"✅ Monthly summary exported to 'monthly_summary.xlsx'.\")\n"
   ]
  },
  {
   "cell_type": "code",
   "execution_count": null,
   "id": "7adcbe31-b9c7-4b84-a02f-d97d9d675d76",
   "metadata": {},
   "outputs": [],
   "source": []
  }
 ],
 "metadata": {
  "kernelspec": {
   "display_name": "Python 3 (ipykernel)",
   "language": "python",
   "name": "python3"
  },
  "language_info": {
   "codemirror_mode": {
    "name": "ipython",
    "version": 3
   },
   "file_extension": ".py",
   "mimetype": "text/x-python",
   "name": "python",
   "nbconvert_exporter": "python",
   "pygments_lexer": "ipython3",
   "version": "3.12.1"
  }
 },
 "nbformat": 4,
 "nbformat_minor": 5
}
